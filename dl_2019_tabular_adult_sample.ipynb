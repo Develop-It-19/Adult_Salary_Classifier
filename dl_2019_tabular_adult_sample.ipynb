{
  "nbformat": 4,
  "nbformat_minor": 0,
  "metadata": {
    "colab": {
      "name": "DL_2019_Tabular_Adult_Sample.ipynb",
      "version": "0.3.2",
      "provenance": [],
      "collapsed_sections": []
    },
    "kernelspec": {
      "name": "python3",
      "display_name": "Python 3"
    }
  },
  "cells": [
    {
      "metadata": {
        "id": "JOG-21oUtSrf",
        "colab_type": "text"
      },
      "cell_type": "markdown",
      "source": [
        "# **Import Dependencies and Create Data Bunch**"
      ]
    },
    {
      "metadata": {
        "id": "lXyDLpMHIwrh",
        "colab_type": "code",
        "colab": {}
      },
      "cell_type": "code",
      "source": [
        "#We are going to use Adult_sample dataset.\n",
        "#In which each observation contains details about a person as independent variables and the dependent variable is a binomial one which says whether the salary is >=50k or not."
      ],
      "execution_count": 0,
      "outputs": []
    },
    {
      "metadata": {
        "id": "OiyYl7p-aAtb",
        "colab_type": "code",
        "colab": {}
      },
      "cell_type": "code",
      "source": [
        "#Import Dependencies\n",
        "from fastai.tabular import *  #As we are dealing with tabular/structured data"
      ],
      "execution_count": 0,
      "outputs": []
    },
    {
      "metadata": {
        "id": "Q1FVE88VWkz5",
        "colab_type": "code",
        "colab": {}
      },
      "cell_type": "code",
      "source": [
        "#Download and Extract Data -> CSV -> Pandas DataFrame -> DataBunch -> Train the Model -> Accuracy and Plots."
      ],
      "execution_count": 0,
      "outputs": []
    },
    {
      "metadata": {
        "id": "9VA8M9qFvUxk",
        "colab_type": "code",
        "outputId": "d4b055e3-3a60-4183-d5ef-e24f22f32bd6",
        "colab": {
          "base_uri": "https://localhost:8080/",
          "height": 34
        }
      },
      "cell_type": "code",
      "source": [
        "path = untar_data(URLs.ADULT_SAMPLE)   #Download and untar (Extract) the ADULT_SAMPLE data from the url present inside it. Store the path returned in the path variable.\n",
        "path"
      ],
      "execution_count": 5,
      "outputs": [
        {
          "output_type": "execute_result",
          "data": {
            "text/plain": [
              "PosixPath('/root/.fastai/data/adult_sample')"
            ]
          },
          "metadata": {
            "tags": []
          },
          "execution_count": 5
        }
      ]
    },
    {
      "metadata": {
        "id": "ZrXjwXqGxvVb",
        "colab_type": "code",
        "outputId": "21f30cd1-1869-4985-e23f-eebe36bc42b0",
        "colab": {
          "base_uri": "https://localhost:8080/",
          "height": 306
        }
      },
      "cell_type": "code",
      "source": [
        "df = pd.read_csv(path/'adult.csv')   #Convert the CSV file into a Pandas Data Frame by reading it from the path and store it in the df variable.\n",
        "df.head()"
      ],
      "execution_count": 6,
      "outputs": [
        {
          "output_type": "execute_result",
          "data": {
            "text/html": [
              "<div>\n",
              "<style scoped>\n",
              "    .dataframe tbody tr th:only-of-type {\n",
              "        vertical-align: middle;\n",
              "    }\n",
              "\n",
              "    .dataframe tbody tr th {\n",
              "        vertical-align: top;\n",
              "    }\n",
              "\n",
              "    .dataframe thead th {\n",
              "        text-align: right;\n",
              "    }\n",
              "</style>\n",
              "<table border=\"1\" class=\"dataframe\">\n",
              "  <thead>\n",
              "    <tr style=\"text-align: right;\">\n",
              "      <th></th>\n",
              "      <th>age</th>\n",
              "      <th>workclass</th>\n",
              "      <th>fnlwgt</th>\n",
              "      <th>education</th>\n",
              "      <th>education-num</th>\n",
              "      <th>marital-status</th>\n",
              "      <th>occupation</th>\n",
              "      <th>relationship</th>\n",
              "      <th>race</th>\n",
              "      <th>sex</th>\n",
              "      <th>capital-gain</th>\n",
              "      <th>capital-loss</th>\n",
              "      <th>hours-per-week</th>\n",
              "      <th>native-country</th>\n",
              "      <th>salary</th>\n",
              "    </tr>\n",
              "  </thead>\n",
              "  <tbody>\n",
              "    <tr>\n",
              "      <th>0</th>\n",
              "      <td>49</td>\n",
              "      <td>Private</td>\n",
              "      <td>101320</td>\n",
              "      <td>Assoc-acdm</td>\n",
              "      <td>12.0</td>\n",
              "      <td>Married-civ-spouse</td>\n",
              "      <td>NaN</td>\n",
              "      <td>Wife</td>\n",
              "      <td>White</td>\n",
              "      <td>Female</td>\n",
              "      <td>0</td>\n",
              "      <td>1902</td>\n",
              "      <td>40</td>\n",
              "      <td>United-States</td>\n",
              "      <td>&gt;=50k</td>\n",
              "    </tr>\n",
              "    <tr>\n",
              "      <th>1</th>\n",
              "      <td>44</td>\n",
              "      <td>Private</td>\n",
              "      <td>236746</td>\n",
              "      <td>Masters</td>\n",
              "      <td>14.0</td>\n",
              "      <td>Divorced</td>\n",
              "      <td>Exec-managerial</td>\n",
              "      <td>Not-in-family</td>\n",
              "      <td>White</td>\n",
              "      <td>Male</td>\n",
              "      <td>10520</td>\n",
              "      <td>0</td>\n",
              "      <td>45</td>\n",
              "      <td>United-States</td>\n",
              "      <td>&gt;=50k</td>\n",
              "    </tr>\n",
              "    <tr>\n",
              "      <th>2</th>\n",
              "      <td>38</td>\n",
              "      <td>Private</td>\n",
              "      <td>96185</td>\n",
              "      <td>HS-grad</td>\n",
              "      <td>NaN</td>\n",
              "      <td>Divorced</td>\n",
              "      <td>NaN</td>\n",
              "      <td>Unmarried</td>\n",
              "      <td>Black</td>\n",
              "      <td>Female</td>\n",
              "      <td>0</td>\n",
              "      <td>0</td>\n",
              "      <td>32</td>\n",
              "      <td>United-States</td>\n",
              "      <td>&lt;50k</td>\n",
              "    </tr>\n",
              "    <tr>\n",
              "      <th>3</th>\n",
              "      <td>38</td>\n",
              "      <td>Self-emp-inc</td>\n",
              "      <td>112847</td>\n",
              "      <td>Prof-school</td>\n",
              "      <td>15.0</td>\n",
              "      <td>Married-civ-spouse</td>\n",
              "      <td>Prof-specialty</td>\n",
              "      <td>Husband</td>\n",
              "      <td>Asian-Pac-Islander</td>\n",
              "      <td>Male</td>\n",
              "      <td>0</td>\n",
              "      <td>0</td>\n",
              "      <td>40</td>\n",
              "      <td>United-States</td>\n",
              "      <td>&gt;=50k</td>\n",
              "    </tr>\n",
              "    <tr>\n",
              "      <th>4</th>\n",
              "      <td>42</td>\n",
              "      <td>Self-emp-not-inc</td>\n",
              "      <td>82297</td>\n",
              "      <td>7th-8th</td>\n",
              "      <td>NaN</td>\n",
              "      <td>Married-civ-spouse</td>\n",
              "      <td>Other-service</td>\n",
              "      <td>Wife</td>\n",
              "      <td>Black</td>\n",
              "      <td>Female</td>\n",
              "      <td>0</td>\n",
              "      <td>0</td>\n",
              "      <td>50</td>\n",
              "      <td>United-States</td>\n",
              "      <td>&lt;50k</td>\n",
              "    </tr>\n",
              "  </tbody>\n",
              "</table>\n",
              "</div>"
            ],
            "text/plain": [
              "   age          workclass  fnlwgt     education  education-num  \\\n",
              "0   49            Private  101320    Assoc-acdm           12.0   \n",
              "1   44            Private  236746       Masters           14.0   \n",
              "2   38            Private   96185       HS-grad            NaN   \n",
              "3   38       Self-emp-inc  112847   Prof-school           15.0   \n",
              "4   42   Self-emp-not-inc   82297       7th-8th            NaN   \n",
              "\n",
              "        marital-status        occupation    relationship                 race  \\\n",
              "0   Married-civ-spouse               NaN            Wife                White   \n",
              "1             Divorced   Exec-managerial   Not-in-family                White   \n",
              "2             Divorced               NaN       Unmarried                Black   \n",
              "3   Married-civ-spouse    Prof-specialty         Husband   Asian-Pac-Islander   \n",
              "4   Married-civ-spouse     Other-service            Wife                Black   \n",
              "\n",
              "       sex  capital-gain  capital-loss  hours-per-week  native-country salary  \n",
              "0   Female             0          1902              40   United-States  >=50k  \n",
              "1     Male         10520             0              45   United-States  >=50k  \n",
              "2   Female             0             0              32   United-States   <50k  \n",
              "3     Male             0             0              40   United-States  >=50k  \n",
              "4   Female             0             0              50   United-States   <50k  "
            ]
          },
          "metadata": {
            "tags": []
          },
          "execution_count": 6
        }
      ]
    },
    {
      "metadata": {
        "id": "7c_SOzARzmoN",
        "colab_type": "code",
        "colab": {}
      },
      "cell_type": "code",
      "source": [
        "procs = [FillMissing, Categorify, Normalize]   #procs is processes.\n",
        "#FillMissing will calculate the median for each of the continuous variables and then replace the missing values with the median.\n",
        "  #It will also create a new column for each continuous variable which has missing values and in that it will store the booleans for the missing values (True - Missing Value, False - Not Missing).\n",
        "#Categorify will convert the categorical variables values to integers. The NaNs will be converted to -1 and Fastai adds +1 to them and makes them 0.\n",
        "#Normalize will make the mean = 0 and standard deviation = 1 for all the continuous variables."
      ],
      "execution_count": 0,
      "outputs": []
    },
    {
      "metadata": {
        "id": "5XDtH97733hZ",
        "colab_type": "code",
        "outputId": "15e79861-26ab-4ce9-cc02-200ffa9e3858",
        "colab": {
          "base_uri": "https://localhost:8080/",
          "height": 34
        }
      },
      "cell_type": "code",
      "source": [
        "len(df)"
      ],
      "execution_count": 9,
      "outputs": [
        {
          "output_type": "execute_result",
          "data": {
            "text/plain": [
              "32561"
            ]
          },
          "metadata": {
            "tags": []
          },
          "execution_count": 9
        }
      ]
    },
    {
      "metadata": {
        "id": "V-9OwhSf4B9N",
        "colab_type": "code",
        "colab": {}
      },
      "cell_type": "code",
      "source": [
        "valid_idx = range(len(df) - 2000, len(df))\n",
        "#Here we are creating a variable which represents the indices of the last 2000 observations in our dataset as the validation set."
      ],
      "execution_count": 0,
      "outputs": []
    },
    {
      "metadata": {
        "id": "lZQzqwdf4S8c",
        "colab_type": "code",
        "colab": {}
      },
      "cell_type": "code",
      "source": [
        "dep_var = 'salary'\n",
        "cat_names = ['workclass', 'education', 'marital-status', 'occupation', 'relationship', 'race', 'sex', 'native-country']\n",
        "#If we don't explicitly pass a list of cont_names for continuous variables then fastai will assign all the remaining variables other than the dep_var and cat_names as cont_names."
      ],
      "execution_count": 0,
      "outputs": []
    },
    {
      "metadata": {
        "id": "Mh6em6J-6Kwn",
        "colab_type": "code",
        "outputId": "8d02d500-421e-4e37-9997-69319a46fb7c",
        "colab": {
          "base_uri": "https://localhost:8080/",
          "height": 34
        }
      },
      "cell_type": "code",
      "source": [
        "data = TabularDataBunch.from_df(path, df, dep_var, valid_idx = valid_idx, procs = procs, cat_names = cat_names)\n",
        "  #DataBunch is a subclass of DataLoader, and DataLoader is a subclass of Dataset.\n",
        "  #Dataset has two methods __getitem__ and __len__ which are used to convert each element into a PyTorch Tensor and to find the length of data respectively.\n",
        "  #Dataloader will randomly select the observations and will create a set of observations.\n",
        "  #Databunch will create the final data which will be fed to the model by creating minibatches.\n",
        "  #Metadata related to databunch will also be stored which contains the things like which variables are categorical, continuous etc.\n",
        "cont_names = data.train_ds.cont_names\n",
        "#cont_names = set(df) - set(cat_names) - {dep_var}\n",
        "print(cont_names)"
      ],
      "execution_count": 12,
      "outputs": [
        {
          "output_type": "stream",
          "text": [
            "['fnlwgt', 'hours-per-week', 'age', 'capital-gain', 'capital-loss', 'education-num']\n"
          ],
          "name": "stdout"
        }
      ]
    },
    {
      "metadata": {
        "id": "q2TJqVf4AVT1",
        "colab_type": "code",
        "outputId": "9a12b6df-2fef-424f-f559-c22f883de618",
        "colab": {
          "base_uri": "https://localhost:8080/",
          "height": 204
        }
      },
      "cell_type": "code",
      "source": [
        "(cat_x, cont_x), y = next(iter(data.train_dl))\n",
        "  #We are extracting a minibatch from the data.train_dl\n",
        "for o in (cat_x, cont_x, y):\n",
        "  print(to_np(o[:5]))   #Here we are converting the PyTorch Tensor to Numpy Array using to_np."
      ],
      "execution_count": 15,
      "outputs": [
        {
          "output_type": "stream",
          "text": [
            "[[ 5 12  5  2  5  5  1 40  1]\n",
            " [ 5 16  4  9  2  5  1  6  1]\n",
            " [ 2 10  1 11  5  3  1 40  1]\n",
            " [ 1 16  5  1  5  5  2 40  1]\n",
            " [ 5 10  3  4  1  5  2 40  1]]\n",
            "[[ 0.025644 -0.035789 -1.21733  -0.145922 -0.216787 -0.421569]\n",
            " [ 0.166812 -0.035789  0.833029 -0.145922 -0.216787 -0.029745]\n",
            " [-0.881251 -0.035789  0.833029 -0.145922 -0.216787  1.145728]\n",
            " [ 2.305946 -0.035789 -1.290557 -0.145922 -0.216787 -0.029745]\n",
            " [ 0.064363 -0.035789  0.393667  0.834277 -0.216787  1.145728]]\n",
            "[0 0 0 0 1]\n"
          ],
          "name": "stdout"
        }
      ]
    },
    {
      "metadata": {
        "id": "NbP8Ztb-9-UN",
        "colab_type": "text"
      },
      "cell_type": "markdown",
      "source": [
        "# Model Training, Testing and Interpretation"
      ]
    },
    {
      "metadata": {
        "id": "t_gY0cRBem63",
        "colab_type": "code",
        "colab": {}
      },
      "cell_type": "code",
      "source": [
        "#We will be using a Multi-Layer Perceptron (MLP) as our Neural Network.\n",
        "#15 -> 200 -> 100 -> 1"
      ],
      "execution_count": 0,
      "outputs": []
    },
    {
      "metadata": {
        "id": "xbziJy2hEV-p",
        "colab_type": "code",
        "outputId": "33b9c87c-d67e-4ac1-84d8-b68f7949bd0e",
        "colab": {
          "base_uri": "https://localhost:8080/",
          "height": 382
        }
      },
      "cell_type": "code",
      "source": [
        "learn1 = tabular_learner(data, layers = [200, 100], emb_szs = {'native-country' : 10}, metrics = accuracy)\n",
        "  #For Categorical Variables the Embedding sizes will be defined automatically by Fastai.\n",
        "  #But we can also define it explicitly as we did above for native-country.\n",
        "learn1.fit_one_cycle(10, 1e-2)"
      ],
      "execution_count": 17,
      "outputs": [
        {
          "output_type": "display_data",
          "data": {
            "text/html": [
              "Total time: 00:58 <p><table border=\"1\" class=\"dataframe\">\n",
              "  <thead>\n",
              "    <tr style=\"text-align: left;\">\n",
              "      <th>epoch</th>\n",
              "      <th>train_loss</th>\n",
              "      <th>valid_loss</th>\n",
              "      <th>accuracy</th>\n",
              "      <th>time</th>\n",
              "    </tr>\n",
              "  </thead>\n",
              "  <tbody>\n",
              "    <tr>\n",
              "      <td>0</td>\n",
              "      <td>0.348113</td>\n",
              "      <td>0.329676</td>\n",
              "      <td>0.835000</td>\n",
              "      <td>00:06</td>\n",
              "    </tr>\n",
              "    <tr>\n",
              "      <td>1</td>\n",
              "      <td>0.336647</td>\n",
              "      <td>0.319109</td>\n",
              "      <td>0.855000</td>\n",
              "      <td>00:05</td>\n",
              "    </tr>\n",
              "    <tr>\n",
              "      <td>2</td>\n",
              "      <td>0.335909</td>\n",
              "      <td>0.322672</td>\n",
              "      <td>0.844000</td>\n",
              "      <td>00:05</td>\n",
              "    </tr>\n",
              "    <tr>\n",
              "      <td>3</td>\n",
              "      <td>0.333818</td>\n",
              "      <td>0.324904</td>\n",
              "      <td>0.849500</td>\n",
              "      <td>00:05</td>\n",
              "    </tr>\n",
              "    <tr>\n",
              "      <td>4</td>\n",
              "      <td>0.325596</td>\n",
              "      <td>0.314635</td>\n",
              "      <td>0.848500</td>\n",
              "      <td>00:05</td>\n",
              "    </tr>\n",
              "    <tr>\n",
              "      <td>5</td>\n",
              "      <td>0.323000</td>\n",
              "      <td>0.325065</td>\n",
              "      <td>0.835500</td>\n",
              "      <td>00:05</td>\n",
              "    </tr>\n",
              "    <tr>\n",
              "      <td>6</td>\n",
              "      <td>0.321174</td>\n",
              "      <td>0.315898</td>\n",
              "      <td>0.852000</td>\n",
              "      <td>00:05</td>\n",
              "    </tr>\n",
              "    <tr>\n",
              "      <td>7</td>\n",
              "      <td>0.311166</td>\n",
              "      <td>0.319006</td>\n",
              "      <td>0.848500</td>\n",
              "      <td>00:05</td>\n",
              "    </tr>\n",
              "    <tr>\n",
              "      <td>8</td>\n",
              "      <td>0.307722</td>\n",
              "      <td>0.312810</td>\n",
              "      <td>0.851500</td>\n",
              "      <td>00:05</td>\n",
              "    </tr>\n",
              "    <tr>\n",
              "      <td>9</td>\n",
              "      <td>0.309758</td>\n",
              "      <td>0.318838</td>\n",
              "      <td>0.852000</td>\n",
              "      <td>00:05</td>\n",
              "    </tr>\n",
              "  </tbody>\n",
              "</table>"
            ],
            "text/plain": [
              "<IPython.core.display.HTML object>"
            ]
          },
          "metadata": {
            "tags": []
          }
        }
      ]
    },
    {
      "metadata": {
        "id": "iy05KbrnKTCO",
        "colab_type": "code",
        "outputId": "0f0dd577-6967-438a-ef05-9b622fd73e89",
        "colab": {
          "base_uri": "https://localhost:8080/",
          "height": 34
        }
      },
      "cell_type": "code",
      "source": [
        "learn1.lr_find()"
      ],
      "execution_count": 24,
      "outputs": [
        {
          "output_type": "display_data",
          "data": {
            "text/html": [
              ""
            ],
            "text/plain": [
              "<IPython.core.display.HTML object>"
            ]
          },
          "metadata": {
            "tags": []
          }
        },
        {
          "output_type": "stream",
          "text": [
            "LR Finder is complete, type {learner_name}.recorder.plot() to see the graph.\n"
          ],
          "name": "stdout"
        }
      ]
    },
    {
      "metadata": {
        "id": "qnsKNUjoOWkY",
        "colab_type": "code",
        "outputId": "8af33f28-d466-4461-c7c9-eb4b22f0222c",
        "colab": {
          "base_uri": "https://localhost:8080/",
          "height": 361
        }
      },
      "cell_type": "code",
      "source": [
        "learn1.recorder.plot()"
      ],
      "execution_count": 25,
      "outputs": [
        {
          "output_type": "display_data",
          "data": {
            "image/png": "[encoded data removed]",
            "text/plain": [
              "<Figure size 576x396 with 1 Axes>"
            ]
          },
          "metadata": {
            "tags": []
          }
        }
      ]
    },
    {
      "metadata": {
        "id": "IIc7GqimOb6L",
        "colab_type": "code",
        "outputId": "ec9b4bea-5014-43aa-f7aa-b7801d1ee4d2",
        "colab": {
          "base_uri": "https://localhost:8080/",
          "height": 227
        }
      },
      "cell_type": "code",
      "source": [
        "#Modify the Learning rate and train again.\n",
        "learn2 = tabular_learner(data, layers = [200, 100], emb_szs = {'native-country' : 10}, metrics = accuracy)\n",
        "learn2.fit_one_cycle(5, 5e-4)"
      ],
      "execution_count": 26,
      "outputs": [
        {
          "output_type": "display_data",
          "data": {
            "text/html": [
              "Total time: 00:28 <p><table border=\"1\" class=\"dataframe\">\n",
              "  <thead>\n",
              "    <tr style=\"text-align: left;\">\n",
              "      <th>epoch</th>\n",
              "      <th>train_loss</th>\n",
              "      <th>valid_loss</th>\n",
              "      <th>accuracy</th>\n",
              "      <th>time</th>\n",
              "    </tr>\n",
              "  </thead>\n",
              "  <tbody>\n",
              "    <tr>\n",
              "      <td>0</td>\n",
              "      <td>0.400721</td>\n",
              "      <td>0.366520</td>\n",
              "      <td>0.828500</td>\n",
              "      <td>00:05</td>\n",
              "    </tr>\n",
              "    <tr>\n",
              "      <td>1</td>\n",
              "      <td>0.341805</td>\n",
              "      <td>0.322460</td>\n",
              "      <td>0.847000</td>\n",
              "      <td>00:05</td>\n",
              "    </tr>\n",
              "    <tr>\n",
              "      <td>2</td>\n",
              "      <td>0.327226</td>\n",
              "      <td>0.320626</td>\n",
              "      <td>0.847500</td>\n",
              "      <td>00:05</td>\n",
              "    </tr>\n",
              "    <tr>\n",
              "      <td>3</td>\n",
              "      <td>0.307138</td>\n",
              "      <td>0.313248</td>\n",
              "      <td>0.853000</td>\n",
              "      <td>00:05</td>\n",
              "    </tr>\n",
              "    <tr>\n",
              "      <td>4</td>\n",
              "      <td>0.317727</td>\n",
              "      <td>0.312260</td>\n",
              "      <td>0.852500</td>\n",
              "      <td>00:05</td>\n",
              "    </tr>\n",
              "  </tbody>\n",
              "</table>"
            ],
            "text/plain": [
              "<IPython.core.display.HTML object>"
            ]
          },
          "metadata": {
            "tags": []
          }
        }
      ]
    },
    {
      "metadata": {
        "id": "vxS1sCwZ_L1P",
        "colab_type": "text"
      },
      "cell_type": "markdown",
      "source": [
        "# Prediction - Inference"
      ]
    },
    {
      "metadata": {
        "id": "UZHy7rKKhvfK",
        "colab_type": "code",
        "colab": {}
      },
      "cell_type": "code",
      "source": [
        "#Prediction using learn1."
      ],
      "execution_count": 0,
      "outputs": []
    },
    {
      "metadata": {
        "id": "evPwPZjm-_KM",
        "colab_type": "code",
        "outputId": "e7def32d-1006-4eeb-9e15-6692bc79df02",
        "colab": {
          "base_uri": "https://localhost:8080/",
          "height": 306
        }
      },
      "cell_type": "code",
      "source": [
        "print(df.iloc[2])\n",
        "learn1.predict(df.iloc[2])\n",
        "#This is Inference where we give the input as the row of the data frame.\n",
        "#This row should contain the same names of categorical and continuous variables as our training and validation data frames."
      ],
      "execution_count": 28,
      "outputs": [
        {
          "output_type": "stream",
          "text": [
            "age                           38\n",
            "workclass                Private\n",
            "fnlwgt                     96185\n",
            "education                HS-grad\n",
            "education-num                NaN\n",
            "marital-status          Divorced\n",
            "occupation                   NaN\n",
            "relationship           Unmarried\n",
            "race                       Black\n",
            "sex                       Female\n",
            "capital-gain                   0\n",
            "capital-loss                   0\n",
            "hours-per-week                32\n",
            "native-country     United-States\n",
            "salary                      <50k\n",
            "Name: 2, dtype: object\n"
          ],
          "name": "stdout"
        },
        {
          "output_type": "execute_result",
          "data": {
            "text/plain": [
              "(Category <50k, tensor(0), tensor([0.9969, 0.0031]))"
            ]
          },
          "metadata": {
            "tags": []
          },
          "execution_count": 28
        }
      ]
    },
    {
      "metadata": {
        "id": "J2LKbIRxhngd",
        "colab_type": "code",
        "colab": {
          "base_uri": "https://localhost:8080/",
          "height": 306
        },
        "outputId": "96590947-1e9f-4018-bc8e-5df5fb902b4a"
      },
      "cell_type": "code",
      "source": [
        "print(df.iloc[3])\n",
        "learn1.predict(df.iloc[3])"
      ],
      "execution_count": 29,
      "outputs": [
        {
          "output_type": "stream",
          "text": [
            "age                                38\n",
            "workclass                Self-emp-inc\n",
            "fnlwgt                         112847\n",
            "education                 Prof-school\n",
            "education-num                      15\n",
            "marital-status     Married-civ-spouse\n",
            "occupation             Prof-specialty\n",
            "relationship                  Husband\n",
            "race               Asian-Pac-Islander\n",
            "sex                              Male\n",
            "capital-gain                        0\n",
            "capital-loss                        0\n",
            "hours-per-week                     40\n",
            "native-country          United-States\n",
            "salary                          >=50k\n",
            "Name: 3, dtype: object\n"
          ],
          "name": "stdout"
        },
        {
          "output_type": "execute_result",
          "data": {
            "text/plain": [
              "(Category >=50k, tensor(1), tensor([0.1112, 0.8888]))"
            ]
          },
          "metadata": {
            "tags": []
          },
          "execution_count": 29
        }
      ]
    },
    {
      "metadata": {
        "id": "uFDVEWGph60p",
        "colab_type": "code",
        "colab": {}
      },
      "cell_type": "code",
      "source": [
        "#Prediction using learn2."
      ],
      "execution_count": 0,
      "outputs": []
    },
    {
      "metadata": {
        "id": "rMBM81N6OrEu",
        "colab_type": "code",
        "outputId": "008ba70f-be00-4213-bbf6-42ee2b889bc2",
        "colab": {
          "base_uri": "https://localhost:8080/",
          "height": 306
        }
      },
      "cell_type": "code",
      "source": [
        "print(df.iloc[2])\n",
        "learn2.predict(df.iloc[2])"
      ],
      "execution_count": 31,
      "outputs": [
        {
          "output_type": "stream",
          "text": [
            "age                           38\n",
            "workclass                Private\n",
            "fnlwgt                     96185\n",
            "education                HS-grad\n",
            "education-num                NaN\n",
            "marital-status          Divorced\n",
            "occupation                   NaN\n",
            "relationship           Unmarried\n",
            "race                       Black\n",
            "sex                       Female\n",
            "capital-gain                   0\n",
            "capital-loss                   0\n",
            "hours-per-week                32\n",
            "native-country     United-States\n",
            "salary                      <50k\n",
            "Name: 2, dtype: object\n"
          ],
          "name": "stdout"
        },
        {
          "output_type": "execute_result",
          "data": {
            "text/plain": [
              "(Category <50k, tensor(0), tensor([0.9900, 0.0100]))"
            ]
          },
          "metadata": {
            "tags": []
          },
          "execution_count": 31
        }
      ]
    },
    {
      "metadata": {
        "id": "jOOMnb5ZguRZ",
        "colab_type": "code",
        "colab": {
          "base_uri": "https://localhost:8080/",
          "height": 306
        },
        "outputId": "2132daf2-27d2-44ef-cecb-934f4198cb4e"
      },
      "cell_type": "code",
      "source": [
        "print(df.iloc[3])\n",
        "learn2.predict(df.iloc[3])"
      ],
      "execution_count": 32,
      "outputs": [
        {
          "output_type": "stream",
          "text": [
            "age                                38\n",
            "workclass                Self-emp-inc\n",
            "fnlwgt                         112847\n",
            "education                 Prof-school\n",
            "education-num                      15\n",
            "marital-status     Married-civ-spouse\n",
            "occupation             Prof-specialty\n",
            "relationship                  Husband\n",
            "race               Asian-Pac-Islander\n",
            "sex                              Male\n",
            "capital-gain                        0\n",
            "capital-loss                        0\n",
            "hours-per-week                     40\n",
            "native-country          United-States\n",
            "salary                          >=50k\n",
            "Name: 3, dtype: object\n"
          ],
          "name": "stdout"
        },
        {
          "output_type": "execute_result",
          "data": {
            "text/plain": [
              "(Category >=50k, tensor(1), tensor([0.1270, 0.8730]))"
            ]
          },
          "metadata": {
            "tags": []
          },
          "execution_count": 32
        }
      ]
    },
    {
      "metadata": {
        "id": "Z34N0r5-iDkj",
        "colab_type": "code",
        "colab": {}
      },
      "cell_type": "code",
      "source": [
        "#We Achieved an Accuracy of 85.2%"
      ],
      "execution_count": 0,
      "outputs": []
    }
  ]
}